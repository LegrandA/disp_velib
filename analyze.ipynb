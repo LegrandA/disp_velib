{
 "cells": [
  {
   "cell_type": "markdown",
   "id": "62af837e",
   "metadata": {},
   "source": [
    "# Exploratory and statistic indsights"
   ]
  },
  {
   "cell_type": "code",
   "execution_count": 37,
   "id": "a3cbc255",
   "metadata": {},
   "outputs": [
    {
     "name": "stdout",
     "output_type": "stream",
     "text": [
      "False\n"
     ]
    },
    {
     "data": {
      "text/html": [
       "<div>\n",
       "<style scoped>\n",
       "    .dataframe tbody tr th:only-of-type {\n",
       "        vertical-align: middle;\n",
       "    }\n",
       "\n",
       "    .dataframe tbody tr th {\n",
       "        vertical-align: top;\n",
       "    }\n",
       "\n",
       "    .dataframe thead th {\n",
       "        text-align: right;\n",
       "    }\n",
       "</style>\n",
       "<table border=\"1\" class=\"dataframe\">\n",
       "  <thead>\n",
       "    <tr style=\"text-align: right;\">\n",
       "      <th></th>\n",
       "      <th>date</th>\n",
       "      <th>capacity</th>\n",
       "      <th>station_name</th>\n",
       "      <th>station_geo</th>\n",
       "      <th>operative</th>\n",
       "      <th>available</th>\n",
       "    </tr>\n",
       "  </thead>\n",
       "  <tbody>\n",
       "    <tr>\n",
       "      <th>0</th>\n",
       "      <td>2020-11-26 12:59:00+00:00</td>\n",
       "      <td>35</td>\n",
       "      <td>Benjamin Godard - Victor Hugo</td>\n",
       "      <td>48.86598,2.27572</td>\n",
       "      <td>True</td>\n",
       "      <td>9</td>\n",
       "    </tr>\n",
       "    <tr>\n",
       "      <th>1</th>\n",
       "      <td>2020-11-26 12:59:00+00:00</td>\n",
       "      <td>55</td>\n",
       "      <td>André Mazet - Saint-André des Arts</td>\n",
       "      <td>48.85376,2.33910</td>\n",
       "      <td>True</td>\n",
       "      <td>27</td>\n",
       "    </tr>\n",
       "    <tr>\n",
       "      <th>2</th>\n",
       "      <td>2020-11-26 12:59:00+00:00</td>\n",
       "      <td>20</td>\n",
       "      <td>Charonne - Robert et Sonia Delauney</td>\n",
       "      <td>48.85591,2.39257</td>\n",
       "      <td>True</td>\n",
       "      <td>0</td>\n",
       "    </tr>\n",
       "    <tr>\n",
       "      <th>3</th>\n",
       "      <td>2020-11-26 12:59:00+00:00</td>\n",
       "      <td>21</td>\n",
       "      <td>Toudouze - Clauzel</td>\n",
       "      <td>48.87930,2.33736</td>\n",
       "      <td>True</td>\n",
       "      <td>1</td>\n",
       "    </tr>\n",
       "    <tr>\n",
       "      <th>4</th>\n",
       "      <td>2020-11-26 12:59:00+00:00</td>\n",
       "      <td>30</td>\n",
       "      <td>Mairie du 12ème</td>\n",
       "      <td>48.84086,2.38755</td>\n",
       "      <td>True</td>\n",
       "      <td>4</td>\n",
       "    </tr>\n",
       "    <tr>\n",
       "      <th>...</th>\n",
       "      <td>...</td>\n",
       "      <td>...</td>\n",
       "      <td>...</td>\n",
       "      <td>...</td>\n",
       "      <td>...</td>\n",
       "      <td>...</td>\n",
       "    </tr>\n",
       "    <tr>\n",
       "      <th>10986725</th>\n",
       "      <td>2021-04-09 14:37:00+00:00</td>\n",
       "      <td>38</td>\n",
       "      <td>Général Michel Bizot - Claude Decaen</td>\n",
       "      <td>48.83481,2.40093</td>\n",
       "      <td>True</td>\n",
       "      <td>6</td>\n",
       "    </tr>\n",
       "    <tr>\n",
       "      <th>10986726</th>\n",
       "      <td>2021-04-09 14:37:00+00:00</td>\n",
       "      <td>20</td>\n",
       "      <td>Ivry - Baudricourt</td>\n",
       "      <td>48.82470,2.36311</td>\n",
       "      <td>True</td>\n",
       "      <td>3</td>\n",
       "    </tr>\n",
       "    <tr>\n",
       "      <th>10986727</th>\n",
       "      <td>2021-04-09 14:37:00+00:00</td>\n",
       "      <td>39</td>\n",
       "      <td>Saint-Mandé - Docteur Arnold Netter</td>\n",
       "      <td>48.84463,2.40495</td>\n",
       "      <td>True</td>\n",
       "      <td>17</td>\n",
       "    </tr>\n",
       "    <tr>\n",
       "      <th>10986728</th>\n",
       "      <td>2021-04-09 14:37:00+00:00</td>\n",
       "      <td>21</td>\n",
       "      <td>Saint-Marcel - Hôpital</td>\n",
       "      <td>48.83950,2.36099</td>\n",
       "      <td>True</td>\n",
       "      <td>16</td>\n",
       "    </tr>\n",
       "    <tr>\n",
       "      <th>10986729</th>\n",
       "      <td>2021-04-09 14:37:00+00:00</td>\n",
       "      <td>36</td>\n",
       "      <td>Guynemer - Jardin du Luxembourg</td>\n",
       "      <td>48.84661,2.33255</td>\n",
       "      <td>True</td>\n",
       "      <td>17</td>\n",
       "    </tr>\n",
       "  </tbody>\n",
       "</table>\n",
       "<p>10986730 rows × 6 columns</p>\n",
       "</div>"
      ],
      "text/plain": [
       "                              date  capacity  \\\n",
       "0        2020-11-26 12:59:00+00:00        35   \n",
       "1        2020-11-26 12:59:00+00:00        55   \n",
       "2        2020-11-26 12:59:00+00:00        20   \n",
       "3        2020-11-26 12:59:00+00:00        21   \n",
       "4        2020-11-26 12:59:00+00:00        30   \n",
       "...                            ...       ...   \n",
       "10986725 2021-04-09 14:37:00+00:00        38   \n",
       "10986726 2021-04-09 14:37:00+00:00        20   \n",
       "10986727 2021-04-09 14:37:00+00:00        39   \n",
       "10986728 2021-04-09 14:37:00+00:00        21   \n",
       "10986729 2021-04-09 14:37:00+00:00        36   \n",
       "\n",
       "                                  station_name       station_geo  operative  \\\n",
       "0                Benjamin Godard - Victor Hugo  48.86598,2.27572       True   \n",
       "1           André Mazet - Saint-André des Arts  48.85376,2.33910       True   \n",
       "2          Charonne - Robert et Sonia Delauney  48.85591,2.39257       True   \n",
       "3                           Toudouze - Clauzel  48.87930,2.33736       True   \n",
       "4                              Mairie du 12ème  48.84086,2.38755       True   \n",
       "...                                        ...               ...        ...   \n",
       "10986725  Général Michel Bizot - Claude Decaen  48.83481,2.40093       True   \n",
       "10986726                    Ivry - Baudricourt  48.82470,2.36311       True   \n",
       "10986727   Saint-Mandé - Docteur Arnold Netter  48.84463,2.40495       True   \n",
       "10986728                Saint-Marcel - Hôpital  48.83950,2.36099       True   \n",
       "10986729       Guynemer - Jardin du Luxembourg  48.84661,2.33255       True   \n",
       "\n",
       "          available  \n",
       "0                 9  \n",
       "1                27  \n",
       "2                 0  \n",
       "3                 1  \n",
       "4                 4  \n",
       "...             ...  \n",
       "10986725          6  \n",
       "10986726          3  \n",
       "10986727         17  \n",
       "10986728         16  \n",
       "10986729         17  \n",
       "\n",
       "[10986730 rows x 6 columns]"
      ]
     },
     "metadata": {},
     "output_type": "display_data"
    }
   ],
   "source": [
    "# Load data and refine it a bit (string to datetime, merge both mechanical and electrical, check for null values, ...)\n",
    "\n",
    "import pandas as pd\n",
    "import numpy as np\n",
    "import geopandas as gpd\n",
    "\n",
    "\n",
    "column_names = ['date','capacity','available_mechanical','available_electrical','station_name','station_geo','operative']\n",
    "df = pd.read_csv('data/historique_stations.csv', header=None, names=column_names)\n",
    "\n",
    "df['available'] = df['available_mechanical'] + df['available_electrical']\n",
    "df = df.drop(columns = ['available_mechanical', 'available_electrical'])\n",
    "df['date'] = pd.to_datetime(df['date'])\n",
    "\n",
    "print(df.isnull().values.any())\n",
    "display(df)\n",
    "df.dtypes\n",
    "\n",
    "# Trim every string in dataframe because whitespace will become annoying after pivot\n",
    "\n",
    "trim_strings = lambda x: x.strip() if isinstance(x, str) else x\n",
    "df = df.applymap(trim_strings)"
   ]
  },
  {
   "cell_type": "markdown",
   "id": "ae5b926d",
   "metadata": {},
   "source": [
    "## How many stations, total capacity (the highest and the lowest)"
   ]
  },
  {
   "cell_type": "code",
   "execution_count": 38,
   "id": "6873b1ee",
   "metadata": {},
   "outputs": [
    {
     "name": "stdout",
     "output_type": "stream",
     "text": [
      "Number of stations :\n",
      "1396\n",
      "Highest total capacity :\n",
      "43982\n",
      "Lowest total capacity :\n",
      "43737\n"
     ]
    }
   ],
   "source": [
    "num_stations = len(df['station_name'].unique())\n",
    "highest_capacity = df.sort_values('capacity',ascending=False).groupby(by='station_name').first()['capacity'].sum()\n",
    "lowest_capacity = df.sort_values('capacity').groupby(by='station_name').first()['capacity'].sum()\n",
    "\n",
    "print('Number of stations :')\n",
    "print(num_stations)\n",
    "\n",
    "print('Highest total capacity :')\n",
    "print(highest_capacity)\n",
    "\n",
    "print('Lowest total capacity :')\n",
    "print(lowest_capacity)\n"
   ]
  },
  {
   "cell_type": "markdown",
   "id": "ea238595",
   "metadata": {},
   "source": [
    "## Should we ignore stations ? Check for unresponsive stations, capacity = 0..."
   ]
  },
  {
   "cell_type": "markdown",
   "id": "b67579df",
   "metadata": {},
   "source": [
    "### How many total dates are available ? Is is the case for every stations ?"
   ]
  },
  {
   "cell_type": "code",
   "execution_count": 39,
   "id": "d3c68863",
   "metadata": {},
   "outputs": [
    {
     "name": "stdout",
     "output_type": "stream",
     "text": [
      "Number of different dates :\n",
      "7866\n",
      "Latest date :\n",
      "2021-04-09 14:37:00+00:00\n"
     ]
    }
   ],
   "source": [
    "date_arr1 = df['date'].unique()\n",
    "num_date = len(date_arr1)\n",
    "latest = date_arr1.max()\n",
    "\n",
    "print(\"Number of different dates :\")\n",
    "print(num_date)\n",
    "print(\"Latest date :\")\n",
    "print(latest)"
   ]
  },
  {
   "cell_type": "markdown",
   "id": "f9c7d08b",
   "metadata": {},
   "source": [
    "### Check for unresponsive stations\n",
    "\n",
    "#### Too few data"
   ]
  },
  {
   "cell_type": "code",
   "execution_count": 40,
   "id": "e11b7e80",
   "metadata": {},
   "outputs": [
    {
     "data": {
      "text/plain": [
       "station_name\n",
       "Jean Jaurès - Paul Lafargue        2\n",
       "station formation alfortville      5\n",
       "Parmentier - Abel rabaud         612\n",
       "Arago - Paul Lafargue            680\n",
       "Name: date, dtype: int64"
      ]
     },
     "metadata": {},
     "output_type": "display_data"
    }
   ],
   "source": [
    "# Display station when more than half values are missing\n",
    "\n",
    "stations_groupdf = df.groupby(by='station_name')\n",
    "\n",
    "val_per_stations_df = stations_groupdf['date'].nunique().sort_values()\n",
    "too_few_val_per_stations_df = val_per_stations_df[val_per_stations_df < num_date/2]\n",
    "display(too_few_val_per_stations_df)"
   ]
  },
  {
   "cell_type": "markdown",
   "id": "ed57770c",
   "metadata": {},
   "source": [
    "#### Latest response too old"
   ]
  },
  {
   "cell_type": "code",
   "execution_count": 41,
   "id": "a7a36063",
   "metadata": {},
   "outputs": [
    {
     "data": {
      "text/plain": [
       "station_name\n",
       "Parmentier - Abel rabaud        126 days 21:36:00\n",
       "station formation alfortville    30 days 22:05:00\n",
       "Name: date, dtype: timedelta64[ns]"
      ]
     },
     "metadata": {},
     "output_type": "display_data"
    }
   ],
   "source": [
    "# Display station when delay is more than an hour\n",
    "\n",
    "latest_df = latest - stations_groupdf['date'].max()\n",
    "\n",
    "display(latest_df[latest_df > np.timedelta64(1, 'h')])"
   ]
  },
  {
   "cell_type": "code",
   "execution_count": 42,
   "id": "1912f1f5",
   "metadata": {},
   "outputs": [],
   "source": [
    "# We will ignore the stations with too few data\n",
    "\n",
    "df = df[~df['station_name'].isin(too_few_val_per_stations_df.index)]"
   ]
  },
  {
   "cell_type": "markdown",
   "id": "39dc8e6c",
   "metadata": {},
   "source": [
    "### Capacity of 0 (probably bugs) : "
   ]
  },
  {
   "cell_type": "code",
   "execution_count": 43,
   "id": "cccb3999",
   "metadata": {
    "scrolled": false
   },
   "outputs": [
    {
     "data": {
      "text/plain": [
       "station_name\n",
       "Hôpital Européen Georges Pompidou          2\n",
       "Chabanais - Petits Champs               1154\n",
       "Université Paris Dauphine               3884\n",
       "Parc Floral du Bel Air                  3978\n",
       "Berthier - Porte de Clichy              7866\n",
       "Champs de Manoeuvre - Cartoucherie      7866\n",
       "Longchamp - Suresnes                    7866\n",
       "Quai de la Gare - Pont de Bercy         7866\n",
       "Saint-Michel - Luxembourg               7866\n",
       "Verdun - Pierre et Marie Curie          7866\n",
       "Victor Massé - Jean-Baptiste Pigalle    7866\n",
       "dtype: int64"
      ]
     },
     "metadata": {},
     "output_type": "display_data"
    }
   ],
   "source": [
    "no_cap_df = df[df['capacity'] == 0].groupby('station_name')\n",
    "display(no_cap_df.size().sort_values())"
   ]
  },
  {
   "cell_type": "markdown",
   "id": "84cbce12",
   "metadata": {},
   "source": [
    "### Capacity of 0 but with bikes available (definitely bugs) :"
   ]
  },
  {
   "cell_type": "code",
   "execution_count": 44,
   "id": "33fbbe8d",
   "metadata": {},
   "outputs": [
    {
     "data": {
      "text/plain": [
       "station_name\n",
       "Chabanais - Petits Champs    31\n",
       "dtype: int64"
      ]
     },
     "metadata": {},
     "output_type": "display_data"
    }
   ],
   "source": [
    "display(df[(df['capacity'] == 0) & (df['available'] > 0)].groupby('station_name').size().sort_values())"
   ]
  },
  {
   "cell_type": "markdown",
   "id": "86952b86",
   "metadata": {},
   "source": [
    "## Date continuity analysis "
   ]
  },
  {
   "cell_type": "code",
   "execution_count": 45,
   "id": "29503e91",
   "metadata": {},
   "outputs": [
    {
     "name": "stdout",
     "output_type": "stream",
     "text": [
      "[Timedelta('3 days 19:46:00'), Timedelta('0 days 03:41:00'), Timedelta('0 days 03:24:00'), Timedelta('0 days 02:15:00'), Timedelta('0 days 02:05:00')]\n",
      "[Timedelta('0 days 00:01:00'), Timedelta('0 days 00:01:00'), Timedelta('0 days 00:01:00'), Timedelta('0 days 00:03:00'), Timedelta('0 days 00:03:00')]\n"
     ]
    }
   ],
   "source": [
    "# Can't .diff() a DatetimeArray so do it manually. Remove the first one (and last to get matching lengths), then substract.\n",
    "\n",
    "date_arr2 = date_arr1[:-1]\n",
    "date_arr1 = date_arr1[1:]\n",
    "granularity = date_arr1 - date_arr2\n",
    "print(sorted(granularity, reverse = True)[:5])\n",
    "print(sorted(granularity)[:5])\n",
    "\n",
    "#Time granularity is uneven, we should resample and pivot the table to have a timeseries dataframe"
   ]
  },
  {
   "cell_type": "markdown",
   "id": "e36c23fd",
   "metadata": {},
   "source": [
    "## Setting up the main timeseries and dataframes"
   ]
  },
  {
   "cell_type": "code",
   "execution_count": 54,
   "id": "e0cf93af",
   "metadata": {
    "scrolled": false
   },
   "outputs": [],
   "source": [
    "# No duplicate date for each stations so the aggfunc doesn't matter a lot \n",
    "\n",
    "available_ts_df = pd.pivot_table(df, index='date', columns='station_name', values='available', aggfunc='first')\n",
    "operative_ts_df = pd.pivot_table(df, index='date', columns='station_name', values='operative', aggfunc='first')\n",
    "\n",
    "# Create a geodataframe for station proximity\n",
    "\n",
    "info_df = df.groupby(by='station_name')['station_geo'].first().str.split(',', expand=True)\n",
    "info_df.columns = ['lat', 'lon']\n",
    "cap_df = df.groupby(by='station_name')['capacity'].max()\n",
    "\n",
    "info_df = info_df.join(cap_df)"
   ]
  },
  {
   "cell_type": "code",
   "execution_count": 55,
   "id": "6c8a9ed7",
   "metadata": {},
   "outputs": [
    {
     "data": {
      "text/html": [
       "<div>\n",
       "<style scoped>\n",
       "    .dataframe tbody tr th:only-of-type {\n",
       "        vertical-align: middle;\n",
       "    }\n",
       "\n",
       "    .dataframe tbody tr th {\n",
       "        vertical-align: top;\n",
       "    }\n",
       "\n",
       "    .dataframe thead th {\n",
       "        text-align: right;\n",
       "    }\n",
       "</style>\n",
       "<table border=\"1\" class=\"dataframe\">\n",
       "  <thead>\n",
       "    <tr style=\"text-align: right;\">\n",
       "      <th></th>\n",
       "      <th>lat</th>\n",
       "      <th>lon</th>\n",
       "      <th>capacity</th>\n",
       "    </tr>\n",
       "    <tr>\n",
       "      <th>station_name</th>\n",
       "      <th></th>\n",
       "      <th></th>\n",
       "      <th></th>\n",
       "    </tr>\n",
       "  </thead>\n",
       "  <tbody>\n",
       "    <tr>\n",
       "      <th>11 Novembre 1918 - 8 Mai 1945</th>\n",
       "      <td>48.80890</td>\n",
       "      <td>2.53824</td>\n",
       "      <td>36</td>\n",
       "    </tr>\n",
       "    <tr>\n",
       "      <th>18 juin 1940 - Buzenval</th>\n",
       "      <td>48.86881</td>\n",
       "      <td>2.18543</td>\n",
       "      <td>25</td>\n",
       "    </tr>\n",
       "    <tr>\n",
       "      <th>8 Mai 1945 - 10 Juillet 1940</th>\n",
       "      <td>48.78457</td>\n",
       "      <td>2.39790</td>\n",
       "      <td>30</td>\n",
       "    </tr>\n",
       "    <tr>\n",
       "      <th>Abbeville - Faubourg Poissonnière</th>\n",
       "      <td>48.87922</td>\n",
       "      <td>2.34915</td>\n",
       "      <td>14</td>\n",
       "    </tr>\n",
       "    <tr>\n",
       "      <th>Abbé Carton - Plantes</th>\n",
       "      <td>48.82767</td>\n",
       "      <td>2.32092</td>\n",
       "      <td>25</td>\n",
       "    </tr>\n",
       "    <tr>\n",
       "      <th>...</th>\n",
       "      <td>...</td>\n",
       "      <td>...</td>\n",
       "      <td>...</td>\n",
       "    </tr>\n",
       "    <tr>\n",
       "      <th>Wurtz - Tolbiac</th>\n",
       "      <td>48.82631</td>\n",
       "      <td>2.34459</td>\n",
       "      <td>28</td>\n",
       "    </tr>\n",
       "    <tr>\n",
       "      <th>Youri Gagarine - Commune de Paris</th>\n",
       "      <td>48.78243</td>\n",
       "      <td>2.39397</td>\n",
       "      <td>33</td>\n",
       "    </tr>\n",
       "    <tr>\n",
       "      <th>Youri Gagarine - Karl Marx</th>\n",
       "      <td>48.78448</td>\n",
       "      <td>2.35908</td>\n",
       "      <td>22</td>\n",
       "    </tr>\n",
       "    <tr>\n",
       "      <th>Édouard Vaillant - Place Jean Jaurès</th>\n",
       "      <td>48.86266</td>\n",
       "      <td>2.20890</td>\n",
       "      <td>24</td>\n",
       "    </tr>\n",
       "    <tr>\n",
       "      <th>Île de la Jatte</th>\n",
       "      <td>48.89404</td>\n",
       "      <td>2.26663</td>\n",
       "      <td>23</td>\n",
       "    </tr>\n",
       "  </tbody>\n",
       "</table>\n",
       "<p>1392 rows × 3 columns</p>\n",
       "</div>"
      ],
      "text/plain": [
       "                                           lat      lon  capacity\n",
       "station_name                                                     \n",
       "11 Novembre 1918 - 8 Mai 1945         48.80890  2.53824        36\n",
       "18 juin 1940 - Buzenval               48.86881  2.18543        25\n",
       "8 Mai 1945 - 10 Juillet 1940          48.78457  2.39790        30\n",
       "Abbeville - Faubourg Poissonnière     48.87922  2.34915        14\n",
       "Abbé Carton - Plantes                 48.82767  2.32092        25\n",
       "...                                        ...      ...       ...\n",
       "Wurtz - Tolbiac                       48.82631  2.34459        28\n",
       "Youri Gagarine - Commune de Paris     48.78243  2.39397        33\n",
       "Youri Gagarine - Karl Marx            48.78448  2.35908        22\n",
       "Édouard Vaillant - Place Jean Jaurès  48.86266  2.20890        24\n",
       "Île de la Jatte                       48.89404  2.26663        23\n",
       "\n",
       "[1392 rows x 3 columns]"
      ]
     },
     "metadata": {},
     "output_type": "display_data"
    }
   ],
   "source": [
    "display(info_df)"
   ]
  },
  {
   "cell_type": "code",
   "execution_count": 15,
   "id": "97db45f3",
   "metadata": {},
   "outputs": [
    {
     "data": {
      "text/html": [
       "<div>\n",
       "<style scoped>\n",
       "    .dataframe tbody tr th:only-of-type {\n",
       "        vertical-align: middle;\n",
       "    }\n",
       "\n",
       "    .dataframe tbody tr th {\n",
       "        vertical-align: top;\n",
       "    }\n",
       "\n",
       "    .dataframe thead th {\n",
       "        text-align: right;\n",
       "    }\n",
       "</style>\n",
       "<table border=\"1\" class=\"dataframe\">\n",
       "  <thead>\n",
       "    <tr style=\"text-align: right;\">\n",
       "      <th></th>\n",
       "      <th>date</th>\n",
       "      <th>capacity</th>\n",
       "      <th>station_name</th>\n",
       "      <th>station_geo</th>\n",
       "      <th>operative</th>\n",
       "      <th>available</th>\n",
       "    </tr>\n",
       "  </thead>\n",
       "  <tbody>\n",
       "  </tbody>\n",
       "</table>\n",
       "</div>"
      ],
      "text/plain": [
       "Empty DataFrame\n",
       "Columns: [date, capacity, station_name, station_geo, operative, available]\n",
       "Index: []"
      ]
     },
     "metadata": {},
     "output_type": "display_data"
    },
    {
     "data": {
      "text/html": [
       "<div>\n",
       "<style scoped>\n",
       "    .dataframe tbody tr th:only-of-type {\n",
       "        vertical-align: middle;\n",
       "    }\n",
       "\n",
       "    .dataframe tbody tr th {\n",
       "        vertical-align: top;\n",
       "    }\n",
       "\n",
       "    .dataframe thead th {\n",
       "        text-align: right;\n",
       "    }\n",
       "</style>\n",
       "<table border=\"1\" class=\"dataframe\">\n",
       "  <thead>\n",
       "    <tr style=\"text-align: right;\">\n",
       "      <th></th>\n",
       "      <th>date</th>\n",
       "      <th>capacity</th>\n",
       "      <th>station_name</th>\n",
       "      <th>station_geo</th>\n",
       "      <th>operative</th>\n",
       "      <th>available</th>\n",
       "    </tr>\n",
       "  </thead>\n",
       "  <tbody>\n",
       "  </tbody>\n",
       "</table>\n",
       "</div>"
      ],
      "text/plain": [
       "Empty DataFrame\n",
       "Columns: [date, capacity, station_name, station_geo, operative, available]\n",
       "Index: []"
      ]
     },
     "metadata": {},
     "output_type": "display_data"
    },
    {
     "data": {
      "text/html": [
       "<div>\n",
       "<style scoped>\n",
       "    .dataframe tbody tr th:only-of-type {\n",
       "        vertical-align: middle;\n",
       "    }\n",
       "\n",
       "    .dataframe tbody tr th {\n",
       "        vertical-align: top;\n",
       "    }\n",
       "\n",
       "    .dataframe thead th {\n",
       "        text-align: right;\n",
       "    }\n",
       "</style>\n",
       "<table border=\"1\" class=\"dataframe\">\n",
       "  <thead>\n",
       "    <tr style=\"text-align: right;\">\n",
       "      <th></th>\n",
       "      <th>date</th>\n",
       "      <th>capacity</th>\n",
       "      <th>station_name</th>\n",
       "      <th>station_geo</th>\n",
       "      <th>operative</th>\n",
       "      <th>available</th>\n",
       "    </tr>\n",
       "  </thead>\n",
       "  <tbody>\n",
       "    <tr>\n",
       "      <th>0</th>\n",
       "      <td>2020-11-26 12:59:00+00:00</td>\n",
       "      <td>35</td>\n",
       "      <td>Benjamin Godard - Victor Hugo</td>\n",
       "      <td>48.86598,2.27572</td>\n",
       "      <td>True</td>\n",
       "      <td>9</td>\n",
       "    </tr>\n",
       "    <tr>\n",
       "      <th>1</th>\n",
       "      <td>2020-11-26 12:59:00+00:00</td>\n",
       "      <td>55</td>\n",
       "      <td>André Mazet - Saint-André des Arts</td>\n",
       "      <td>48.85376,2.33910</td>\n",
       "      <td>True</td>\n",
       "      <td>27</td>\n",
       "    </tr>\n",
       "    <tr>\n",
       "      <th>2</th>\n",
       "      <td>2020-11-26 12:59:00+00:00</td>\n",
       "      <td>20</td>\n",
       "      <td>Charonne - Robert et Sonia Delauney</td>\n",
       "      <td>48.85591,2.39257</td>\n",
       "      <td>True</td>\n",
       "      <td>0</td>\n",
       "    </tr>\n",
       "    <tr>\n",
       "      <th>3</th>\n",
       "      <td>2020-11-26 12:59:00+00:00</td>\n",
       "      <td>21</td>\n",
       "      <td>Toudouze - Clauzel</td>\n",
       "      <td>48.87930,2.33736</td>\n",
       "      <td>True</td>\n",
       "      <td>1</td>\n",
       "    </tr>\n",
       "    <tr>\n",
       "      <th>4</th>\n",
       "      <td>2020-11-26 12:59:00+00:00</td>\n",
       "      <td>30</td>\n",
       "      <td>Mairie du 12ème</td>\n",
       "      <td>48.84086,2.38755</td>\n",
       "      <td>True</td>\n",
       "      <td>4</td>\n",
       "    </tr>\n",
       "    <tr>\n",
       "      <th>...</th>\n",
       "      <td>...</td>\n",
       "      <td>...</td>\n",
       "      <td>...</td>\n",
       "      <td>...</td>\n",
       "      <td>...</td>\n",
       "      <td>...</td>\n",
       "    </tr>\n",
       "    <tr>\n",
       "      <th>10986725</th>\n",
       "      <td>2021-04-09 14:37:00+00:00</td>\n",
       "      <td>38</td>\n",
       "      <td>Général Michel Bizot - Claude Decaen</td>\n",
       "      <td>48.83481,2.40093</td>\n",
       "      <td>True</td>\n",
       "      <td>6</td>\n",
       "    </tr>\n",
       "    <tr>\n",
       "      <th>10986726</th>\n",
       "      <td>2021-04-09 14:37:00+00:00</td>\n",
       "      <td>20</td>\n",
       "      <td>Ivry - Baudricourt</td>\n",
       "      <td>48.82470,2.36311</td>\n",
       "      <td>True</td>\n",
       "      <td>3</td>\n",
       "    </tr>\n",
       "    <tr>\n",
       "      <th>10986727</th>\n",
       "      <td>2021-04-09 14:37:00+00:00</td>\n",
       "      <td>39</td>\n",
       "      <td>Saint-Mandé - Docteur Arnold Netter</td>\n",
       "      <td>48.84463,2.40495</td>\n",
       "      <td>True</td>\n",
       "      <td>17</td>\n",
       "    </tr>\n",
       "    <tr>\n",
       "      <th>10986728</th>\n",
       "      <td>2021-04-09 14:37:00+00:00</td>\n",
       "      <td>21</td>\n",
       "      <td>Saint-Marcel - Hôpital</td>\n",
       "      <td>48.83950,2.36099</td>\n",
       "      <td>True</td>\n",
       "      <td>16</td>\n",
       "    </tr>\n",
       "    <tr>\n",
       "      <th>10986729</th>\n",
       "      <td>2021-04-09 14:37:00+00:00</td>\n",
       "      <td>36</td>\n",
       "      <td>Guynemer - Jardin du Luxembourg</td>\n",
       "      <td>48.84661,2.33255</td>\n",
       "      <td>True</td>\n",
       "      <td>17</td>\n",
       "    </tr>\n",
       "  </tbody>\n",
       "</table>\n",
       "<p>10982786 rows × 6 columns</p>\n",
       "</div>"
      ],
      "text/plain": [
       "                              date  capacity  \\\n",
       "0        2020-11-26 12:59:00+00:00        35   \n",
       "1        2020-11-26 12:59:00+00:00        55   \n",
       "2        2020-11-26 12:59:00+00:00        20   \n",
       "3        2020-11-26 12:59:00+00:00        21   \n",
       "4        2020-11-26 12:59:00+00:00        30   \n",
       "...                            ...       ...   \n",
       "10986725 2021-04-09 14:37:00+00:00        38   \n",
       "10986726 2021-04-09 14:37:00+00:00        20   \n",
       "10986727 2021-04-09 14:37:00+00:00        39   \n",
       "10986728 2021-04-09 14:37:00+00:00        21   \n",
       "10986729 2021-04-09 14:37:00+00:00        36   \n",
       "\n",
       "                                  station_name       station_geo  operative  \\\n",
       "0                Benjamin Godard - Victor Hugo  48.86598,2.27572       True   \n",
       "1           André Mazet - Saint-André des Arts  48.85376,2.33910       True   \n",
       "2          Charonne - Robert et Sonia Delauney  48.85591,2.39257       True   \n",
       "3                           Toudouze - Clauzel  48.87930,2.33736       True   \n",
       "4                              Mairie du 12ème  48.84086,2.38755       True   \n",
       "...                                        ...               ...        ...   \n",
       "10986725  Général Michel Bizot - Claude Decaen  48.83481,2.40093       True   \n",
       "10986726                    Ivry - Baudricourt  48.82470,2.36311       True   \n",
       "10986727   Saint-Mandé - Docteur Arnold Netter  48.84463,2.40495       True   \n",
       "10986728                Saint-Marcel - Hôpital  48.83950,2.36099       True   \n",
       "10986729       Guynemer - Jardin du Luxembourg  48.84661,2.33255       True   \n",
       "\n",
       "          available  \n",
       "0                 9  \n",
       "1                27  \n",
       "2                 0  \n",
       "3                 1  \n",
       "4                 4  \n",
       "...             ...  \n",
       "10986725          6  \n",
       "10986726          3  \n",
       "10986727         17  \n",
       "10986728         16  \n",
       "10986729         17  \n",
       "\n",
       "[10982786 rows x 6 columns]"
      ]
     },
     "metadata": {},
     "output_type": "display_data"
    }
   ],
   "source": [
    "display(df[df['station_name'] == 'Hôpital Européen Georges Pompidou'])\n",
    "display(df[df['station_name'] == 'Jean Jaurès - Paul Lafargue'])\n",
    "display(df)\n"
   ]
  },
  {
   "cell_type": "code",
   "execution_count": null,
   "id": "a6c1bc45",
   "metadata": {},
   "outputs": [],
   "source": []
  }
 ],
 "metadata": {
  "kernelspec": {
   "display_name": "Python 3 (ipykernel)",
   "language": "python",
   "name": "python3"
  },
  "language_info": {
   "codemirror_mode": {
    "name": "ipython",
    "version": 3
   },
   "file_extension": ".py",
   "mimetype": "text/x-python",
   "name": "python",
   "nbconvert_exporter": "python",
   "pygments_lexer": "ipython3",
   "version": "3.11.4"
  }
 },
 "nbformat": 4,
 "nbformat_minor": 5
}
