{
 "cells": [
  {
   "cell_type": "markdown",
   "id": "62af837e",
   "metadata": {},
   "source": [
    "# Exploratory and statistic indsights"
   ]
  },
  {
   "cell_type": "code",
   "execution_count": 1,
   "id": "a3cbc255",
   "metadata": {},
   "outputs": [
    {
     "name": "stdout",
     "output_type": "stream",
     "text": [
      "False\n"
     ]
    },
    {
     "data": {
      "text/html": [
       "<div>\n",
       "<style scoped>\n",
       "    .dataframe tbody tr th:only-of-type {\n",
       "        vertical-align: middle;\n",
       "    }\n",
       "\n",
       "    .dataframe tbody tr th {\n",
       "        vertical-align: top;\n",
       "    }\n",
       "\n",
       "    .dataframe thead th {\n",
       "        text-align: right;\n",
       "    }\n",
       "</style>\n",
       "<table border=\"1\" class=\"dataframe\">\n",
       "  <thead>\n",
       "    <tr style=\"text-align: right;\">\n",
       "      <th></th>\n",
       "      <th>date</th>\n",
       "      <th>capacity</th>\n",
       "      <th>station_name</th>\n",
       "      <th>station_geo</th>\n",
       "      <th>operative</th>\n",
       "      <th>available</th>\n",
       "    </tr>\n",
       "  </thead>\n",
       "  <tbody>\n",
       "    <tr>\n",
       "      <th>0</th>\n",
       "      <td>2020-11-26 12:59:00+00:00</td>\n",
       "      <td>35</td>\n",
       "      <td>Benjamin Godard - Victor Hugo</td>\n",
       "      <td>48.86598,2.27572</td>\n",
       "      <td>True</td>\n",
       "      <td>9</td>\n",
       "    </tr>\n",
       "    <tr>\n",
       "      <th>1</th>\n",
       "      <td>2020-11-26 12:59:00+00:00</td>\n",
       "      <td>55</td>\n",
       "      <td>André Mazet - Saint-André des Arts</td>\n",
       "      <td>48.85376,2.33910</td>\n",
       "      <td>True</td>\n",
       "      <td>27</td>\n",
       "    </tr>\n",
       "    <tr>\n",
       "      <th>2</th>\n",
       "      <td>2020-11-26 12:59:00+00:00</td>\n",
       "      <td>20</td>\n",
       "      <td>Charonne - Robert et Sonia Delauney</td>\n",
       "      <td>48.85591,2.39257</td>\n",
       "      <td>True</td>\n",
       "      <td>0</td>\n",
       "    </tr>\n",
       "    <tr>\n",
       "      <th>3</th>\n",
       "      <td>2020-11-26 12:59:00+00:00</td>\n",
       "      <td>21</td>\n",
       "      <td>Toudouze - Clauzel</td>\n",
       "      <td>48.87930,2.33736</td>\n",
       "      <td>True</td>\n",
       "      <td>1</td>\n",
       "    </tr>\n",
       "    <tr>\n",
       "      <th>4</th>\n",
       "      <td>2020-11-26 12:59:00+00:00</td>\n",
       "      <td>30</td>\n",
       "      <td>Mairie du 12ème</td>\n",
       "      <td>48.84086,2.38755</td>\n",
       "      <td>True</td>\n",
       "      <td>4</td>\n",
       "    </tr>\n",
       "    <tr>\n",
       "      <th>...</th>\n",
       "      <td>...</td>\n",
       "      <td>...</td>\n",
       "      <td>...</td>\n",
       "      <td>...</td>\n",
       "      <td>...</td>\n",
       "      <td>...</td>\n",
       "    </tr>\n",
       "    <tr>\n",
       "      <th>10986725</th>\n",
       "      <td>2021-04-09 14:37:00+00:00</td>\n",
       "      <td>38</td>\n",
       "      <td>Général Michel Bizot - Claude Decaen</td>\n",
       "      <td>48.83481,2.40093</td>\n",
       "      <td>True</td>\n",
       "      <td>6</td>\n",
       "    </tr>\n",
       "    <tr>\n",
       "      <th>10986726</th>\n",
       "      <td>2021-04-09 14:37:00+00:00</td>\n",
       "      <td>20</td>\n",
       "      <td>Ivry - Baudricourt</td>\n",
       "      <td>48.82470,2.36311</td>\n",
       "      <td>True</td>\n",
       "      <td>3</td>\n",
       "    </tr>\n",
       "    <tr>\n",
       "      <th>10986727</th>\n",
       "      <td>2021-04-09 14:37:00+00:00</td>\n",
       "      <td>39</td>\n",
       "      <td>Saint-Mandé - Docteur Arnold Netter</td>\n",
       "      <td>48.84463,2.40495</td>\n",
       "      <td>True</td>\n",
       "      <td>17</td>\n",
       "    </tr>\n",
       "    <tr>\n",
       "      <th>10986728</th>\n",
       "      <td>2021-04-09 14:37:00+00:00</td>\n",
       "      <td>21</td>\n",
       "      <td>Saint-Marcel - Hôpital</td>\n",
       "      <td>48.83950,2.36099</td>\n",
       "      <td>True</td>\n",
       "      <td>16</td>\n",
       "    </tr>\n",
       "    <tr>\n",
       "      <th>10986729</th>\n",
       "      <td>2021-04-09 14:37:00+00:00</td>\n",
       "      <td>36</td>\n",
       "      <td>Guynemer - Jardin du Luxembourg</td>\n",
       "      <td>48.84661,2.33255</td>\n",
       "      <td>True</td>\n",
       "      <td>17</td>\n",
       "    </tr>\n",
       "  </tbody>\n",
       "</table>\n",
       "<p>10986730 rows × 6 columns</p>\n",
       "</div>"
      ],
      "text/plain": [
       "                              date  capacity  \\\n",
       "0        2020-11-26 12:59:00+00:00        35   \n",
       "1        2020-11-26 12:59:00+00:00        55   \n",
       "2        2020-11-26 12:59:00+00:00        20   \n",
       "3        2020-11-26 12:59:00+00:00        21   \n",
       "4        2020-11-26 12:59:00+00:00        30   \n",
       "...                            ...       ...   \n",
       "10986725 2021-04-09 14:37:00+00:00        38   \n",
       "10986726 2021-04-09 14:37:00+00:00        20   \n",
       "10986727 2021-04-09 14:37:00+00:00        39   \n",
       "10986728 2021-04-09 14:37:00+00:00        21   \n",
       "10986729 2021-04-09 14:37:00+00:00        36   \n",
       "\n",
       "                                  station_name       station_geo  operative  \\\n",
       "0                Benjamin Godard - Victor Hugo  48.86598,2.27572       True   \n",
       "1           André Mazet - Saint-André des Arts  48.85376,2.33910       True   \n",
       "2          Charonne - Robert et Sonia Delauney  48.85591,2.39257       True   \n",
       "3                           Toudouze - Clauzel  48.87930,2.33736       True   \n",
       "4                              Mairie du 12ème  48.84086,2.38755       True   \n",
       "...                                        ...               ...        ...   \n",
       "10986725  Général Michel Bizot - Claude Decaen  48.83481,2.40093       True   \n",
       "10986726                    Ivry - Baudricourt  48.82470,2.36311       True   \n",
       "10986727   Saint-Mandé - Docteur Arnold Netter  48.84463,2.40495       True   \n",
       "10986728                Saint-Marcel - Hôpital  48.83950,2.36099       True   \n",
       "10986729       Guynemer - Jardin du Luxembourg  48.84661,2.33255       True   \n",
       "\n",
       "          available  \n",
       "0                 9  \n",
       "1                27  \n",
       "2                 0  \n",
       "3                 1  \n",
       "4                 4  \n",
       "...             ...  \n",
       "10986725          6  \n",
       "10986726          3  \n",
       "10986727         17  \n",
       "10986728         16  \n",
       "10986729         17  \n",
       "\n",
       "[10986730 rows x 6 columns]"
      ]
     },
     "metadata": {},
     "output_type": "display_data"
    }
   ],
   "source": [
    "# Load data and refine it a bit (string to datetime, merge both mechanical and electrical, check for null values, ...)\n",
    "\n",
    "import pandas as pd\n",
    "import numpy as np\n",
    "import geopandas as gpd\n",
    "import matplotlib.pyplot as plt\n",
    "\n",
    "\n",
    "column_names = ['date','capacity','available_mechanical','available_electrical','station_name','station_geo','operative']\n",
    "df = pd.read_csv('data/historique_stations.csv', header=None, names=column_names)\n",
    "\n",
    "df['available'] = df['available_mechanical'] + df['available_electrical']\n",
    "df = df.drop(columns = ['available_mechanical', 'available_electrical'])\n",
    "df['date'] = pd.to_datetime(df['date'])\n",
    "\n",
    "print(df.isnull().values.any())\n",
    "display(df)\n",
    "df.dtypes\n",
    "\n",
    "# Trim every string in dataframe because whitespace will become annoying after pivot\n",
    "\n",
    "trim_strings = lambda x: x.strip() if isinstance(x, str) else x\n",
    "df = df.applymap(trim_strings)"
   ]
  },
  {
   "cell_type": "markdown",
   "id": "ae5b926d",
   "metadata": {},
   "source": [
    "## How many stations, total capacity (the highest and the lowest)"
   ]
  },
  {
   "cell_type": "code",
   "execution_count": 2,
   "id": "6873b1ee",
   "metadata": {},
   "outputs": [
    {
     "name": "stdout",
     "output_type": "stream",
     "text": [
      "Number of stations :\n",
      "1396\n",
      "Highest total capacity :\n",
      "43982\n",
      "Lowest total capacity :\n",
      "43737\n"
     ]
    }
   ],
   "source": [
    "num_stations = len(df['station_name'].unique())\n",
    "highest_capacity = df.sort_values('capacity',ascending=False).groupby(by='station_name').first()['capacity'].sum()\n",
    "lowest_capacity = df.sort_values('capacity').groupby(by='station_name').first()['capacity'].sum()\n",
    "\n",
    "print('Number of stations :')\n",
    "print(num_stations)\n",
    "\n",
    "print('Highest total capacity :')\n",
    "print(highest_capacity)\n",
    "\n",
    "print('Lowest total capacity :')\n",
    "print(lowest_capacity)\n"
   ]
  },
  {
   "cell_type": "markdown",
   "id": "ea238595",
   "metadata": {},
   "source": [
    "## Should we ignore stations ? Check for unresponsive stations, capacity = 0..."
   ]
  },
  {
   "cell_type": "markdown",
   "id": "b67579df",
   "metadata": {},
   "source": [
    "### How many total dates are available ? Is is the case for every stations ?"
   ]
  },
  {
   "cell_type": "code",
   "execution_count": 3,
   "id": "d3c68863",
   "metadata": {},
   "outputs": [
    {
     "name": "stdout",
     "output_type": "stream",
     "text": [
      "Number of different dates :\n",
      "7866\n",
      "Latest date :\n",
      "2021-04-09 14:37:00+00:00\n"
     ]
    }
   ],
   "source": [
    "date_arr1 = df['date'].unique()\n",
    "num_date = len(date_arr1)\n",
    "latest = date_arr1.max()\n",
    "\n",
    "print(\"Number of different dates :\")\n",
    "print(num_date)\n",
    "print(\"Latest date :\")\n",
    "print(latest)"
   ]
  },
  {
   "cell_type": "markdown",
   "id": "f9c7d08b",
   "metadata": {},
   "source": [
    "### Check for unresponsive stations\n",
    "\n",
    "#### Too few data"
   ]
  },
  {
   "cell_type": "code",
   "execution_count": 4,
   "id": "e11b7e80",
   "metadata": {},
   "outputs": [
    {
     "data": {
      "text/plain": [
       "station_name\n",
       "Jean Jaurès - Paul Lafargue        2\n",
       "station formation alfortville      5\n",
       "Parmentier - Abel rabaud         612\n",
       "Arago - Paul Lafargue            680\n",
       "Name: date, dtype: int64"
      ]
     },
     "metadata": {},
     "output_type": "display_data"
    }
   ],
   "source": [
    "# Display station when more than half values are missing\n",
    "\n",
    "stations_groupdf = df.groupby(by='station_name')\n",
    "\n",
    "val_per_stations_df = stations_groupdf['date'].nunique().sort_values()\n",
    "too_few_val_per_stations_df = val_per_stations_df[val_per_stations_df < num_date/2]\n",
    "display(too_few_val_per_stations_df)"
   ]
  },
  {
   "cell_type": "markdown",
   "id": "ed57770c",
   "metadata": {},
   "source": [
    "#### Latest response too old"
   ]
  },
  {
   "cell_type": "code",
   "execution_count": 5,
   "id": "a7a36063",
   "metadata": {},
   "outputs": [
    {
     "data": {
      "text/plain": [
       "station_name\n",
       "Parmentier - Abel rabaud        126 days 21:36:00\n",
       "station formation alfortville    30 days 22:05:00\n",
       "Name: date, dtype: timedelta64[ns]"
      ]
     },
     "metadata": {},
     "output_type": "display_data"
    }
   ],
   "source": [
    "# Display station when delay is more than an hour\n",
    "\n",
    "latest_df = latest - stations_groupdf['date'].max()\n",
    "\n",
    "display(latest_df[latest_df > np.timedelta64(1, 'h')])"
   ]
  },
  {
   "cell_type": "code",
   "execution_count": 6,
   "id": "1912f1f5",
   "metadata": {},
   "outputs": [],
   "source": [
    "# We will ignore the stations with too few data\n",
    "\n",
    "df = df[~df['station_name'].isin(too_few_val_per_stations_df.index)]"
   ]
  },
  {
   "cell_type": "markdown",
   "id": "39dc8e6c",
   "metadata": {},
   "source": [
    "### Capacity of 0 (probably bugs) : "
   ]
  },
  {
   "cell_type": "code",
   "execution_count": 7,
   "id": "cccb3999",
   "metadata": {
    "scrolled": false
   },
   "outputs": [
    {
     "data": {
      "text/plain": [
       "station_name\n",
       "Hôpital Européen Georges Pompidou          2\n",
       "Chabanais - Petits Champs               1154\n",
       "Université Paris Dauphine               3884\n",
       "Parc Floral du Bel Air                  3978\n",
       "Berthier - Porte de Clichy              7866\n",
       "Champs de Manoeuvre - Cartoucherie      7866\n",
       "Longchamp - Suresnes                    7866\n",
       "Quai de la Gare - Pont de Bercy         7866\n",
       "Saint-Michel - Luxembourg               7866\n",
       "Verdun - Pierre et Marie Curie          7866\n",
       "Victor Massé - Jean-Baptiste Pigalle    7866\n",
       "dtype: int64"
      ]
     },
     "metadata": {},
     "output_type": "display_data"
    }
   ],
   "source": [
    "no_cap_df = df[df['capacity'] == 0].groupby('station_name')\n",
    "display(no_cap_df.size().sort_values())"
   ]
  },
  {
   "cell_type": "markdown",
   "id": "84cbce12",
   "metadata": {},
   "source": [
    "### Capacity of 0 but with bikes available (definitely bugs) :"
   ]
  },
  {
   "cell_type": "code",
   "execution_count": 8,
   "id": "33fbbe8d",
   "metadata": {},
   "outputs": [
    {
     "data": {
      "text/plain": [
       "station_name\n",
       "Chabanais - Petits Champs    31\n",
       "dtype: int64"
      ]
     },
     "metadata": {},
     "output_type": "display_data"
    }
   ],
   "source": [
    "display(df[(df['capacity'] == 0) & (df['available'] > 0)].groupby('station_name').size().sort_values())"
   ]
  },
  {
   "cell_type": "markdown",
   "id": "86952b86",
   "metadata": {},
   "source": [
    "## Date continuity analysis "
   ]
  },
  {
   "cell_type": "code",
   "execution_count": 9,
   "id": "29503e91",
   "metadata": {},
   "outputs": [
    {
     "name": "stdout",
     "output_type": "stream",
     "text": [
      "[Timedelta('3 days 19:46:00'), Timedelta('0 days 03:41:00'), Timedelta('0 days 03:24:00'), Timedelta('0 days 02:15:00'), Timedelta('0 days 02:05:00')]\n",
      "[Timedelta('0 days 00:01:00'), Timedelta('0 days 00:01:00'), Timedelta('0 days 00:01:00'), Timedelta('0 days 00:03:00'), Timedelta('0 days 00:03:00')]\n",
      "0 days 00:24:32.788302606\n"
     ]
    },
    {
     "data": {
      "text/plain": [
       "[]"
      ]
     },
     "execution_count": 9,
     "metadata": {},
     "output_type": "execute_result"
    },
    {
     "data": {
      "image/png": "[encoded data removed]",
      "text/plain": [
       "<Figure size 640x480 with 1 Axes>"
      ]
     },
     "metadata": {},
     "output_type": "display_data"
    }
   ],
   "source": [
    "# Can't .diff() a DatetimeArray so do it manually. Remove the first one (and last to get matching lengths), then substract.\n",
    "import seaborn as sns\n",
    "\n",
    "date_arr2 = date_arr1[:-1]\n",
    "date_arr1 = date_arr1[1:]\n",
    "granularity = date_arr1 - date_arr2\n",
    "print(sorted(granularity, reverse = True)[:5])\n",
    "print(sorted(granularity)[:5])\n",
    "print(granularity.mean())\n",
    "\n",
    "minutes_gran = [x.total_seconds()/60 for x in granularity]\n",
    "\n",
    "sns.boxplot(minutes_gran)\n",
    "plt.ylim(0, 50)\n",
    "plt.plot()\n",
    "\n",
    "# Time granularity is uneven, we should resample and pivot the table to have a timeseries dataframe\n",
    "# We will identify the hole in the data in the following steps\n"
   ]
  },
  {
   "cell_type": "markdown",
   "id": "5e457e8f",
   "metadata": {},
   "source": [
    "## Setting up the main timeseries and dataframes"
   ]
  },
  {
   "cell_type": "code",
   "execution_count": null,
   "id": "e0cf93af",
   "metadata": {
    "scrolled": false
   },
   "outputs": [],
   "source": [
    "# No duplicate date for each stations so the aggfunc doesn't matter a lot \n",
    "\n",
    "available_ts_df = pd.pivot_table(df, index='date', columns='station_name', values='available', aggfunc='first')\n",
    "operative_ts_df = pd.pivot_table(df, index='date', columns='station_name', values='operative', aggfunc='first')\n",
    "\n",
    "#Resample to 30 minutes since it covers most of the deltas\n",
    "\n",
    "available_ts_df = available_ts_df.resample('30T').min()\n",
    "operative_ts_df = operative_ts_df.resample('30T').min()\n",
    "\n",
    "# Create a geodataframe for station proximity\n",
    "\n",
    "info_df = df.groupby(by='station_name')['station_geo'].first().str.split(',', expand=True).astype(float)\n",
    "info_df.columns = ['lat', 'lon']\n",
    "cap_df = df.groupby(by='station_name')['capacity'].max()\n",
    "\n",
    "info_df = info_df.join(cap_df)"
   ]
  },
  {
   "cell_type": "markdown",
   "id": "d3816a69",
   "metadata": {},
   "source": [
    "#### Displaying a few data"
   ]
  },
  {
   "cell_type": "code",
   "execution_count": null,
   "id": "e7787380",
   "metadata": {
    "scrolled": true
   },
   "outputs": [],
   "source": [
    "from random import randint\n",
    "\n",
    "def disp(df, num):\n",
    "    rand = [randint(0, len(df.columns)-1) for i in range(num)]\n",
    "    \n",
    "    for i in rand:\n",
    "        col = df.columns[i]\n",
    "        current_df = pd.DataFrame()\n",
    "        current_df[df.columns[i]] = df[col]\n",
    "        current_df.index = df.index\n",
    "        \n",
    "        current_df.plot(figsize=(20, 10))\n",
    "        plt.title(col)\n",
    "        plt.show()\n",
    "        \n",
    "        current_df['hour'] = df.index.hour\n",
    "        current_df['dayofweek'] = df.index.dayofweek\n",
    "        \n",
    "        sns.boxplot(data = current_df, x = 'hour', y = col)\n",
    "        plt.show()\n",
    "        sns.boxplot(data = current_df, x = 'dayofweek', y = col)\n",
    "        plt.show()\n",
    "\n",
    "disp(available_ts_df, 10)"
   ]
  },
  {
   "cell_type": "markdown",
   "id": "5954b3d4",
   "metadata": {},
   "source": [
    "Some stations experiment seasonality (daily and weekly) and some don't. We consider the visual inspection to be enough and won't do a periodogram.\n",
    "\n",
    "### Now identifying holes in the data "
   ]
  },
  {
   "cell_type": "code",
   "execution_count": null,
   "id": "a6c1bc45",
   "metadata": {
    "scrolled": true
   },
   "outputs": [],
   "source": [
    "# Randomly select stations and find where are the holes in it\n",
    "\n",
    "def find_consec_nulls(df, num):\n",
    "    rand = [randint(0, len(df.columns)-1) for i in range(num)]\n",
    "\n",
    "    for i in rand:\n",
    "        col = df.columns[i]\n",
    "        current_df = df[col]\n",
    "        display(current_df.isnull().astype(int).groupby(current_df.notnull().astype(int).cumsum()).sum().sort_values())\n",
    "        \n",
    "find_consec_nulls(available_ts_df, 5)"
   ]
  },
  {
   "cell_type": "markdown",
   "id": "6ab46e46",
   "metadata": {},
   "source": [
    "2777th index and the 183 following rows should be avoided. Other smaller holes will be filled with previous values so we can carry on."
   ]
  },
  {
   "cell_type": "code",
   "execution_count": null,
   "id": "c980671d",
   "metadata": {},
   "outputs": [],
   "source": [
    "available_ts_df = available_ts_df.fillna(method='ffill')\n",
    "operative_ts_df = operative_ts_df.fillna(method='ffill')\n",
    "\n",
    "disp(available_ts_df, 3)"
   ]
  },
  {
   "cell_type": "markdown",
   "id": "6ad7d9e0",
   "metadata": {},
   "source": [
    "### Compute the distance between every stations to get an idea of the \"neighbourness\""
   ]
  },
  {
   "cell_type": "code",
   "execution_count": null,
   "id": "eaf9df17",
   "metadata": {},
   "outputs": [],
   "source": [
    "from scipy.spatial.distance import squareform \n",
    "from scipy.spatial.distance import pdist\n",
    "from geopy import distance\n",
    "\n",
    "coordinates = info_df[['lat','lon']].astype(float).values\n",
    "\n",
    "coordinates_array = np.array(coordinates)\n",
    "\n",
    "dist_array = pdist(coordinates_array, lambda u, v: distance.distance(u, v).km)\n",
    "dist_matrix = squareform(dist_array)\n",
    "\n",
    "print(dist_matrix)\n"
   ]
  },
  {
   "cell_type": "code",
   "execution_count": null,
   "id": "33a56a0d",
   "metadata": {},
   "outputs": [],
   "source": [
    "dist_df = pd.DataFrame(dist_matrix, index = available_ts_df.columns, columns=available_ts_df.columns)\n",
    "dist_df.replace(0, np.nan, inplace=True)"
   ]
  },
  {
   "cell_type": "code",
   "execution_count": null,
   "id": "f00f5bd6",
   "metadata": {},
   "outputs": [],
   "source": [
    "neighbours = {}\n",
    "close_neighbours = {}\n",
    "\n",
    "for col in dist_df.columns:\n",
    "    close_neighbours[col] = dist_df[col][dist_df[col] < 0.5].index.values\n",
    "    neighbours[col] = dist_df[col][dist_df[col] < 5].index.values\n"
   ]
  },
  {
   "cell_type": "markdown",
   "id": "929346f5",
   "metadata": {},
   "source": [
    "### Get the \"activeness\" of the stations"
   ]
  },
  {
   "cell_type": "code",
   "execution_count": null,
   "id": "ffc403d0",
   "metadata": {},
   "outputs": [],
   "source": [
    "info_df['mean'] = (available_ts_df.diff().abs().mean()).T\n",
    "\n",
    "display(info_df)"
   ]
  },
  {
   "cell_type": "markdown",
   "id": "dd2f65f0",
   "metadata": {},
   "source": [
    "## Creating our datasets"
   ]
  },
  {
   "cell_type": "code",
   "execution_count": null,
   "id": "7c943724",
   "metadata": {},
   "outputs": [],
   "source": [
    "from tqdm import tqdm\n",
    "\n",
    "adf1 = available_ts_df[:2777]\n",
    "adf2 = available_ts_df[2777+183:]\n",
    "\n",
    "# Get info about close neighbours stations and further located stations to have an idea of the number of circulating bike\n",
    "def get_info(col):\n",
    "    c_neighbours = close_neighbours[col]\n",
    "    a_neighbours = neighbours[col]\n",
    "    infos = info_df.loc[col].to_dict()\n",
    "    c_num = c_neighbours.size\n",
    "    if c_num> 0:\n",
    "        infos['c_cap'] = info_df[info_df.index.isin(c_neighbours)]['capacity'].sum()\n",
    "    else:\n",
    "        infos['c_cap'] = 0\n",
    "    infos['a_cap'] = info_df[info_df.index.isin(a_neighbours)]['capacity'].sum()\n",
    "    infos['c_num'] = c_num\n",
    "    infos['a_neighbours'] = a_neighbours\n",
    "    infos['c_neighbours'] = c_neighbours\n",
    "    return infos\n",
    "    \n",
    "# Pretty ineficient way to create our dataset\n",
    "# TODO : make it faster and more elegant\n",
    "def create_individual(value, date, infos, df):\n",
    "    c_available = 0\n",
    "    c_num = 0\n",
    "    if infos['c_cap'] > 0:\n",
    "        c_available = infos['c_cap'] - df.loc[date][infos['c_neighbours']].sum()\n",
    "    a_available = infos['a_cap'] - df.loc[date][infos['a_neighbours']].sum()\n",
    "    indiv = list(infos.values())[:-2]\n",
    "    indiv.append(c_available)\n",
    "    indiv.append(a_available)\n",
    "    return indiv\n",
    "    \n",
    "        \n",
    "def create_dataset(df, offset):\n",
    "    X = []\n",
    "    Y = []\n",
    "    columns = df.columns\n",
    "    num_bar = len(columns) * len(df)-336-offset\n",
    "    with tqdm(total=num_bar) as pbar:\n",
    "        for col in columns:\n",
    "            infos = get_info(col)\n",
    "            serie = df[col]\n",
    "            dates = serie.index\n",
    "            # start the range at 336 so we can get the value of the preceeding week\n",
    "            for i in range(336, len(dates) - offset):\n",
    "                x = create_individual(serie[i], dates[i], infos, df)\n",
    "                x.append(serie[i-336+offset])\n",
    "                x.append(serie[i-48+offset])\n",
    "                X.append(x)\n",
    "                Y.append(serie[i+offset])\n",
    "                pbar.update(1)\n",
    "    return X, Y\n",
    "\n",
    "X1, Y1 = create_dataset(adf1, 1)\n",
    "X2, Y2 = create_dataset(adf2, 1)\n",
    "\n",
    "X = X1 + X2\n",
    "Y = Y1 + Y1\n",
    "\n",
    "\n",
    "# Save the datasets because current version of code takes a lot of time\n",
    "\n",
    "X_data = np.array(X)\n",
    "Y_data = np.array(Y)\n",
    "\n",
    "X_file_path = 'dataset_X.npy'\n",
    "Y_file_path = 'dataset_Y.npy'\n",
    "\n",
    "np.save(X_file_path, X_data)\n",
    "np.save(Y_file_path, Y_data)"
   ]
  },
  {
   "cell_type": "markdown",
   "id": "5fd88ece",
   "metadata": {},
   "source": [
    "### We chose XGboost as our first model."
   ]
  },
  {
   "cell_type": "code",
   "execution_count": null,
   "id": "4a1e4648",
   "metadata": {},
   "outputs": [],
   "source": [
    "import xgboost as xgb\n",
    "from sklearn.model_selection import train_test_split, GridSearchCV\n",
    "from sklearn.metrics import accuracy_score, confusion_matrix, classification_report\n",
    "import joblib\n",
    "\n",
    "# Split the dataset into training and testing sets\n",
    "X_train, X_test, Y_train, Y_test = train_test_split(X, Y, test_size=0.2, random_state=42)\n",
    "\n",
    "xgb_model = xgb.XGBClassifier()\n",
    "\n",
    "param_grid = {\n",
    "    'n_estimators': [100, 200, 300],\n",
    "    'max_depth': [3, 4, 5],\n",
    "    'learning_rate': [0.1, 0.01, 0.001]\n",
    "}\n",
    "\n",
    "# Initialize GridSearchCV with cross-validation\n",
    "grid_search = GridSearchCV(estimator=xgb_model, param_grid=param_grid, scoring='accuracy', cv=5)\n",
    "\n",
    "grid_search.fit(X_train, Y_train)\n",
    "\n",
    "best_params = grid_search.best_params_\n",
    "\n",
    "best_xgb_model = xgb.XGBClassifier(**best_params)\n",
    "\n",
    "# Train the model on the entire training data and then save it\n",
    "best_xgb_model.fit(X_train, Y_train)\n",
    "\n",
    "current_date = datetime.now().strftime(\"%Y-%m-%d_%H-%M-%S\")\n",
    "model_filename = f'models/best_xgb_model_{current_date}.joblib'\n",
    "\n",
    "# Save the best model to a file using joblib\n",
    "joblib.dump(best_xgb_model, model_filename)"
   ]
  },
  {
   "cell_type": "markdown",
   "id": "949fca0b",
   "metadata": {},
   "source": [
    "### Model evaluation"
   ]
  },
  {
   "cell_type": "code",
   "execution_count": null,
   "id": "3ed230b6",
   "metadata": {},
   "outputs": [],
   "source": [
    "loaded_model = joblib.load(model_filename)\n",
    "Y_pred = loaded_model.predict(X_test)\n",
    "\n",
    "# Evaluate the model\n",
    "accuracy = accuracy_score(Y_test, Y_pred)\n",
    "conf_matrix = confusion_matrix(Y_test, Y_pred)\n",
    "classification_rep = classification_report(Y_test, Y_pred)\n",
    "\n",
    "print(\"Best Parameters:\", best_params)\n",
    "print(\"Accuracy:\", accuracy)\n",
    "print(\"Confusion Matrix:\\n\", conf_matrix)\n",
    "print(\"Classification Report:\\n\", classification_rep)"
   ]
  },
  {
   "cell_type": "code",
   "execution_count": null,
   "id": "b6a3fd56",
   "metadata": {},
   "outputs": [],
   "source": []
  },
  {
   "cell_type": "code",
   "execution_count": null,
   "id": "c3088989",
   "metadata": {},
   "outputs": [],
   "source": []
  },
  {
   "cell_type": "code",
   "execution_count": null,
   "id": "20b09c8a",
   "metadata": {},
   "outputs": [],
   "source": []
  }
 ],
 "metadata": {
  "kernelspec": {
   "display_name": "Python 3 (ipykernel)",
   "language": "python",
   "name": "python3"
  },
  "language_info": {
   "codemirror_mode": {
    "name": "ipython",
    "version": 3
   },
   "file_extension": ".py",
   "mimetype": "text/x-python",
   "name": "python",
   "nbconvert_exporter": "python",
   "pygments_lexer": "ipython3",
   "version": "3.11.4"
  }
 },
 "nbformat": 4,
 "nbformat_minor": 5
}
